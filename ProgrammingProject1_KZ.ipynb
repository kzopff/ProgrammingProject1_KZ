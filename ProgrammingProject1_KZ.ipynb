{
 "cells": [
  {
   "cell_type": "markdown",
   "metadata": {},
   "source": [
    "# Programming Project 1\n",
    "---\n",
    "**Author:** Katie Zopff  \n",
    "**Version:** 1.0  \n",
    "**Semester:** Fall 2020  \n",
    "  \n",
    "This *notebook* contains my solution to **Programming Project 1**\n",
    "&nbsp;  \n",
    "&nbsp;  \n",
    "This program projects population growth for a certain time period. The growth is calculated using the formula\n",
    "&nbsp;  \n",
    "<div align=\"center\">$P_{x} = P_{0}\\times e^{rt}$</div>\n",
    "where $P_{x} =$ the final population, $P_{0} =$ the initial population, $e =$ Euler's number, $r =$ the rate of growth, and $t =$ the time passed in years. In this case, $P_{0} = 89,000,000$  people and $r = 2.1$%. \n"
   ]
  },
  {
   "cell_type": "code",
   "execution_count": 98,
   "metadata": {},
   "outputs": [
    {
     "name": "stdout",
     "output_type": "stream",
     "text": [
      "Requirement already satisfied: prettytable in c:\\programdata\\anaconda3\\lib\\site-packages (0.7.2)\n",
      "Note: you may need to restart the kernel to use updated packages.\n"
     ]
    }
   ],
   "source": [
    "pip install prettytable"
   ]
  },
  {
   "cell_type": "code",
   "execution_count": 99,
   "metadata": {},
   "outputs": [],
   "source": [
    "def pop(data):\n",
    "    \"this calculates the population\"\n",
    "    population =89000000*(2.71828**(0.021*data))\n",
    "    return population\n",
    "def inc(data):\n",
    "    \"this calculates the approximate increase from previous year\"\n",
    "    increase =89000000*(2.71828**(0.021*data))-(89000000*(2.71828**(0.021*(data-1))))\n",
    "    return increase"
   ]
  },
  {
   "cell_type": "code",
   "execution_count": 101,
   "metadata": {},
   "outputs": [
    {
     "name": "stdout",
     "output_type": "stream",
     "text": [
      "=============================================================\n",
      "Population Growth\n",
      "=============================================================\n",
      " \n",
      "We started with 89,000,000 people.\n",
      " \n",
      "+------+--------------------+-----------------------------------------+\n",
      "| Year | Population         | Approximate Increase from Previous Year |\n",
      "+------+--------------------+-----------------------------------------+\n",
      "| 1    | 90888761.31187204  | 1888761.3118720353                      |\n",
      "| 2    | 92817605.98658927  | 1928844.6747172326                      |\n",
      "| 3    | 94787384.67476961  | 1969778.6881803423                      |\n",
      "| 4    | 96798966.07957001  | 2011581.4048004001                      |\n",
      "| 5    | 98853237.33979814  | 2054271.2602281272                      |\n",
      "| 6    | 100951104.42115447 | 2097867.0813563317                      |\n",
      "| 7    | 103093492.51577729 | 2142388.0946228206                      |\n",
      "| 8    | 105281346.45026681 | 2187853.9344895184                      |\n",
      "| 9    | 107515631.1023686  | 2234284.652101785                       |\n",
      "| 10   | 109797331.82649958 | 2281700.724130988                       |\n",
      "| 11   | 112127454.88830484 | 2330123.061805263                       |\n",
      "| 12   | 114507027.90843636 | 2379573.0201315135                      |\n",
      "| 13   | 116937100.31574988 | 2430072.4073135257                      |\n",
      "| 14   | 119418743.81011939 | 2481643.494369507                       |\n",
      "| 15   | 121953052.83507343 | 2534309.024954036                       |\n",
      "| 16   | 124541145.06046188 | 2588092.2253884524                      |\n",
      "| 17   | 127184161.87536572 | 2643016.8149038404                      |\n",
      "| 18   | 129883268.89146751 | 2699107.0161017925                      |\n",
      "| 19   | 132639656.45710431 | 2756387.5656367987                      |\n",
      "| 20   | 135454540.18222988 | 2814883.725125566                       |\n",
      "| 21   | 138329161.4745176  | 2874621.292287737                       |\n",
      "| 22   | 141264788.08684084 | 2935626.6123232245                      |\n",
      "| 23   | 144262714.67637146 | 2997926.589530617                       |\n",
      "| 24   | 147324263.37554407 | 3061548.699172616                       |\n",
      "| 25   | 150450784.375137   | 3126520.99959293                        |\n",
      "| 26   | 153643656.51972756 | 3192872.1445905566                      |\n",
      "| 27   | 156904287.9157839  | 3260631.396056354                       |\n",
      "| 28   | 160234116.55266213 | 3329828.636878222                       |\n",
      "| 29   | 163634610.9367819  | 3400494.384119779                       |\n",
      "| 30   | 167107270.73926082 | 3472659.8024789095                      |\n",
      "| 31   | 170653627.45729274 | 3546356.718031913                       |\n",
      "| 32   | 174275245.08956188 | 3621617.632269144                       |\n",
      "| 33   | 177973720.8259909  | 3698475.736429006                       |\n",
      "| 34   | 181750685.75212622 | 3776964.9261353314  *population doubled |\n",
      "| 35   | 185607805.56847256 | 3857119.8163463473                      |\n",
      "+------+--------------------+-----------------------------------------+\n"
     ]
    }
   ],
   "source": [
    "print(\"=============================================================\")\n",
    "print(\"Population Growth\")\n",
    "print(\"=============================================================\")\n",
    "print(\" \")\n",
    "print(\"We started with 89,000,000 people.\")\n",
    "print(\" \")\n",
    "\n",
    "from prettytable import PrettyTable\n",
    "x = PrettyTable()\n",
    "x.field_names = [\"Year\", \"Population\", \"Approximate Increase from Previous Year\"]\n",
    "for i in range(1,34):\n",
    "    x.add_row([i, pop(i), inc(i)]) \n",
    "x.add_row([34, pop(34), \"3776964.9261353314  *population doubled\"]) \n",
    "x.add_row([35, pop(35), inc(35)])\n",
    "x.align = 'l'\n",
    "print(x)"
   ]
  }
 ],
 "metadata": {
  "kernelspec": {
   "display_name": "Python 3",
   "language": "python",
   "name": "python3"
  },
  "language_info": {
   "codemirror_mode": {
    "name": "ipython",
    "version": 3
   },
   "file_extension": ".py",
   "mimetype": "text/x-python",
   "name": "python",
   "nbconvert_exporter": "python",
   "pygments_lexer": "ipython3",
   "version": "3.8.3"
  }
 },
 "nbformat": 4,
 "nbformat_minor": 4
}
